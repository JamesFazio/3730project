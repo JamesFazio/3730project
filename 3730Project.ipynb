{
 "cells": [
  {
   "cell_type": "code",
   "execution_count": null,
   "id": "fb90e966",
   "metadata": {},
   "outputs": [],
   "source": [
    "import csv\n",
    "import numpy as np\n",
    "import pandas as pd\n",
    "from pandas import *\n",
    "import seaborn as sns\n",
    "import matplotlib.pyplot as plt"
   ]
  },
  {
   "cell_type": "code",
   "execution_count": null,
   "id": "6af6d9d7",
   "metadata": {},
   "outputs": [],
   "source": [
    "data = read_csv(\"steam_gamesClean.csv\", dtype=str, delimiter=';', on_bad_lines='skip')\n",
    "data.head()"
   ]
  },
  {
   "cell_type": "code",
   "execution_count": null,
   "id": "6bb1e516",
   "metadata": {},
   "outputs": [],
   "source": [
    "data = data.drop(labels = [\"Type\", \"Initial Price\", \"Discount\", \"CCU\", \"Platforms\", \"Website\", \"Header Image,,,,,,,,,,,,,,,,,,,,,,,,,,,,,,,,,,,,,,,,,,,,,,,,,,,,,,,,,,,,,,,,,,,,,,,,,,,,,,\", \"Release Date\", \"Required Age\"], axis=1)\n",
    "print(data.shape)"
   ]
  },
  {
   "cell_type": "code",
   "execution_count": null,
   "id": "4349e904",
   "metadata": {},
   "outputs": [],
   "source": [
    "owners = data[\"Owners\"].str.replace(\",0,\",\",000,\")\n",
    "owners.value_counts().tail()\n",
    "topgames = data[\n",
    "    (owners == '200,000,000 .. 500,000,000') | \n",
    "    (owners == '50,000,000 .. 100,000,000')]\n",
    "topgames"
   ]
  },
  {
   "cell_type": "code",
   "execution_count": null,
   "id": "c967c23a",
   "metadata": {},
   "outputs": [],
   "source": [
    "data = data.drop(data[pd.to_numeric(data['Positive Reviews']) <= 20].index).reset_index(drop=True)\n",
    "data = data.drop(data[pd.to_numeric(data['Negative Reviews']) <= 20].index).reset_index(drop=True)\n",
    "data.head()"
   ]
  },
  {
   "cell_type": "code",
   "execution_count": null,
   "id": "1132de32",
   "metadata": {},
   "outputs": [],
   "source": [
    "data[\"Rating Difference\"] = pd.to_numeric(data[\"Positive Reviews\"]) - pd.to_numeric(data[\"Negative Reviews\"])\n",
    "data[\"Rating Difference\"]"
   ]
  },
  {
   "cell_type": "code",
   "execution_count": null,
   "id": "fbba2085",
   "metadata": {},
   "outputs": [],
   "source": [
    "dev_ratios = data.groupby(\"Developer\")[\"Rating Difference\"].sum()\n",
    "heads = dev_ratios.sort_values(ascending=False).head(20)/1000\n",
    "fig2, ax2 = plt.subplots(figsize=(16,8))\n",
    "\n",
    "heads.plot(kind='barh', color='green', ax=ax2)\n",
    "\n",
    "plt.title('Developer ratings difference')\n",
    "plt.xlabel('Difference in ratings (Thousands)')\n",
    "plt.ylabel('Developer')\n",
    "\n",
    "plt.grid(axis='x')\n",
    "ax2.set_axisbelow(True)\n",
    "plt.show()"
   ]
  },
  {
   "cell_type": "code",
   "execution_count": null,
   "id": "4318adee",
   "metadata": {},
   "outputs": [],
   "source": [
    "tags = data[\"Tags\"].replace('(: \\d*,)', '', regex=True)\n",
    "tags = tags.astype(str)\n",
    "tags.head()"
   ]
  }
 ],
 "metadata": {
  "kernelspec": {
   "display_name": "Python 3.9.13 ('base')",
   "language": "python",
   "name": "python3"
  },
  "language_info": {
   "codemirror_mode": {
    "name": "ipython",
    "version": 3
   },
   "file_extension": ".py",
   "mimetype": "text/x-python",
   "name": "python",
   "nbconvert_exporter": "python",
   "pygments_lexer": "ipython3",
   "version": "3.9.13"
  },
  "vscode": {
   "interpreter": {
    "hash": "02e30a1944b2587bb1294f2383a42da531eec4184971017897223c044f6bc1ae"
   }
  }
 },
 "nbformat": 4,
 "nbformat_minor": 5
}
