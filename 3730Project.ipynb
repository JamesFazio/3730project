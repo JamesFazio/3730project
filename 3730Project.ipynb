{
 "cells": [
  {
   "cell_type": "code",
   "execution_count": 1,
   "id": "fb90e966",
   "metadata": {},
   "outputs": [],
   "source": [
    "import pandas as pd\n",
    "import numpy as np\n",
    "from pandas import *\n",
    "import matplotlib.pyplot as plt\n",
    "from sklearn.feature_extraction.text import CountVectorizer\n",
    "from sklearn.metrics.pairwise import cosine_similarity"
   ]
  },
  {
   "cell_type": "code",
   "execution_count": 2,
   "id": "6af6d9d7",
   "metadata": {},
   "outputs": [
    {
     "data": {
      "text/html": [
       "<div>\n",
       "<style scoped>\n",
       "    .dataframe tbody tr th:only-of-type {\n",
       "        vertical-align: middle;\n",
       "    }\n",
       "\n",
       "    .dataframe tbody tr th {\n",
       "        vertical-align: top;\n",
       "    }\n",
       "\n",
       "    .dataframe thead th {\n",
       "        text-align: right;\n",
       "    }\n",
       "</style>\n",
       "<table border=\"1\" class=\"dataframe\">\n",
       "  <thead>\n",
       "    <tr style=\"text-align: right;\">\n",
       "      <th></th>\n",
       "      <th>App ID</th>\n",
       "      <th>Name</th>\n",
       "      <th>Short Description</th>\n",
       "      <th>Developer</th>\n",
       "      <th>Publisher</th>\n",
       "      <th>Genre</th>\n",
       "      <th>Tags</th>\n",
       "      <th>Type</th>\n",
       "      <th>Categories</th>\n",
       "      <th>Owners</th>\n",
       "      <th>...</th>\n",
       "      <th>Price</th>\n",
       "      <th>Initial Price</th>\n",
       "      <th>Discount</th>\n",
       "      <th>CCU</th>\n",
       "      <th>Languages</th>\n",
       "      <th>Platforms</th>\n",
       "      <th>Release Date</th>\n",
       "      <th>Required Age</th>\n",
       "      <th>Website</th>\n",
       "      <th>Header Image,,,,,,,,,,,,,,,,,,,,,,,,,,,,,,,,,,,,,,,,,,,,,,,,,,,,,,,,,,,,,,,,,,,,,,,,,,,,,,</th>\n",
       "    </tr>\n",
       "  </thead>\n",
       "  <tbody>\n",
       "    <tr>\n",
       "      <th>0</th>\n",
       "      <td>10</td>\n",
       "      <td>Counter-Strike</td>\n",
       "      <td>Play the world's number 1 online action game. ...</td>\n",
       "      <td>Valve</td>\n",
       "      <td>Valve</td>\n",
       "      <td>Action</td>\n",
       "      <td>Action: 5426, FPS: 4831, Multiplayer: 3392, Sh...</td>\n",
       "      <td>game</td>\n",
       "      <td>Multi-player, Valve Anti-Cheat enabled, Online...</td>\n",
       "      <td>10,0,000 .. 20,0,000</td>\n",
       "      <td>...</td>\n",
       "      <td>999</td>\n",
       "      <td>999</td>\n",
       "      <td>0</td>\n",
       "      <td>13990</td>\n",
       "      <td>English, French, German, Italian, Spanish - Sp...</td>\n",
       "      <td>windows, mac, linux</td>\n",
       "      <td>2000/11/1</td>\n",
       "      <td>0</td>\n",
       "      <td>NaN</td>\n",
       "      <td>https://cdn.akamai.steamstatic.com/steam/apps/...</td>\n",
       "    </tr>\n",
       "    <tr>\n",
       "      <th>1</th>\n",
       "      <td>1000000</td>\n",
       "      <td>ASCENXION</td>\n",
       "      <td>ASCENXION is a 2D shoot 'em up game where you ...</td>\n",
       "      <td>IndigoBlue Game Studio</td>\n",
       "      <td>PsychoFlux Entertainment</td>\n",
       "      <td>Action, Adventure, Indie</td>\n",
       "      <td>Shoot Em Up: 186, Metroidvania: 181, Bullet He...</td>\n",
       "      <td>game</td>\n",
       "      <td>Single-player, Partial Controller Support, Ste...</td>\n",
       "      <td>0 .. 20,000</td>\n",
       "      <td>...</td>\n",
       "      <td>999</td>\n",
       "      <td>999</td>\n",
       "      <td>0</td>\n",
       "      <td>0</td>\n",
       "      <td>English, Korean, Simplified Chinese</td>\n",
       "      <td>windows</td>\n",
       "      <td>2021/05/14</td>\n",
       "      <td>0</td>\n",
       "      <td>NaN</td>\n",
       "      <td>https://cdn.akamai.steamstatic.com/steam/apps/...</td>\n",
       "    </tr>\n",
       "    <tr>\n",
       "      <th>2</th>\n",
       "      <td>1000010</td>\n",
       "      <td>Crown Trick</td>\n",
       "      <td>Enter a labyrinth that moves as you move, wher...</td>\n",
       "      <td>NEXT Studios</td>\n",
       "      <td>Team17, NEXT Studios</td>\n",
       "      <td>Adventure, Indie, RPG, Strategy</td>\n",
       "      <td>Rogue-like: 268, Turn-Based Combat: 254, RPG: ...</td>\n",
       "      <td>game</td>\n",
       "      <td>Single-player, Partial Controller Support, Ste...</td>\n",
       "      <td>200,000 .. 500,000</td>\n",
       "      <td>...</td>\n",
       "      <td>599</td>\n",
       "      <td>1999</td>\n",
       "      <td>70</td>\n",
       "      <td>99</td>\n",
       "      <td>Simplified Chinese, English, Japanese, Traditi...</td>\n",
       "      <td>windows</td>\n",
       "      <td>2020/10/16</td>\n",
       "      <td>0</td>\n",
       "      <td>NaN</td>\n",
       "      <td>https://cdn.akamai.steamstatic.com/steam/apps/...</td>\n",
       "    </tr>\n",
       "    <tr>\n",
       "      <th>3</th>\n",
       "      <td>1000030</td>\n",
       "      <td>Cook, Serve, Delicious! 3?!</td>\n",
       "      <td>Cook, serve and manage your food truck as you ...</td>\n",
       "      <td>Vertigo Gaming Inc.</td>\n",
       "      <td>Vertigo Gaming Inc.</td>\n",
       "      <td>Action, Indie, Simulation, Strategy</td>\n",
       "      <td>Typing: 221, Management: 213, Casual: 209, Dif...</td>\n",
       "      <td>game</td>\n",
       "      <td>Multi-player, Single-player, Co-op, Steam Achi...</td>\n",
       "      <td>100,000 .. 200,000</td>\n",
       "      <td>...</td>\n",
       "      <td>1999</td>\n",
       "      <td>1999</td>\n",
       "      <td>0</td>\n",
       "      <td>76</td>\n",
       "      <td>English</td>\n",
       "      <td>windows, mac</td>\n",
       "      <td>2020/10/14</td>\n",
       "      <td>0</td>\n",
       "      <td>http://www.cookservedelicious.com</td>\n",
       "      <td>https://cdn.akamai.steamstatic.com/steam/apps/...</td>\n",
       "    </tr>\n",
       "    <tr>\n",
       "      <th>4</th>\n",
       "      <td>1000040</td>\n",
       "      <td>细胞战争</td>\n",
       "      <td>这是一款打击感十足的细胞主题游戏！操作简单但活下去却不简单，“你”作为侵入人体的细菌病毒，通...</td>\n",
       "      <td>DoubleC Games</td>\n",
       "      <td>DoubleC Games</td>\n",
       "      <td>Action, Casual, Indie, Simulation</td>\n",
       "      <td>Action: 22, Casual: 22, Indie: 21, Simulation: 20</td>\n",
       "      <td>game</td>\n",
       "      <td>Single-player</td>\n",
       "      <td>0 .. 20,000</td>\n",
       "      <td>...</td>\n",
       "      <td>199</td>\n",
       "      <td>199</td>\n",
       "      <td>0</td>\n",
       "      <td>0</td>\n",
       "      <td>Simplified Chinese</td>\n",
       "      <td>windows</td>\n",
       "      <td>2019/03/30</td>\n",
       "      <td>0</td>\n",
       "      <td>NaN</td>\n",
       "      <td>https://cdn.akamai.steamstatic.com/steam/apps/...</td>\n",
       "    </tr>\n",
       "  </tbody>\n",
       "</table>\n",
       "<p>5 rows × 22 columns</p>\n",
       "</div>"
      ],
      "text/plain": [
       "    App ID                         Name  \\\n",
       "0       10               Counter-Strike   \n",
       "1  1000000                    ASCENXION   \n",
       "2  1000010                  Crown Trick   \n",
       "3  1000030  Cook, Serve, Delicious! 3?!   \n",
       "4  1000040                         细胞战争   \n",
       "\n",
       "                                   Short Description               Developer  \\\n",
       "0  Play the world's number 1 online action game. ...                   Valve   \n",
       "1  ASCENXION is a 2D shoot 'em up game where you ...  IndigoBlue Game Studio   \n",
       "2  Enter a labyrinth that moves as you move, wher...            NEXT Studios   \n",
       "3  Cook, serve and manage your food truck as you ...     Vertigo Gaming Inc.   \n",
       "4  这是一款打击感十足的细胞主题游戏！操作简单但活下去却不简单，“你”作为侵入人体的细菌病毒，通...           DoubleC Games   \n",
       "\n",
       "                  Publisher                                Genre  \\\n",
       "0                     Valve                               Action   \n",
       "1  PsychoFlux Entertainment             Action, Adventure, Indie   \n",
       "2      Team17, NEXT Studios      Adventure, Indie, RPG, Strategy   \n",
       "3       Vertigo Gaming Inc.  Action, Indie, Simulation, Strategy   \n",
       "4             DoubleC Games    Action, Casual, Indie, Simulation   \n",
       "\n",
       "                                                Tags  Type  \\\n",
       "0  Action: 5426, FPS: 4831, Multiplayer: 3392, Sh...  game   \n",
       "1  Shoot Em Up: 186, Metroidvania: 181, Bullet He...  game   \n",
       "2  Rogue-like: 268, Turn-Based Combat: 254, RPG: ...  game   \n",
       "3  Typing: 221, Management: 213, Casual: 209, Dif...  game   \n",
       "4  Action: 22, Casual: 22, Indie: 21, Simulation: 20  game   \n",
       "\n",
       "                                          Categories                Owners  \\\n",
       "0  Multi-player, Valve Anti-Cheat enabled, Online...  10,0,000 .. 20,0,000   \n",
       "1  Single-player, Partial Controller Support, Ste...           0 .. 20,000   \n",
       "2  Single-player, Partial Controller Support, Ste...    200,000 .. 500,000   \n",
       "3  Multi-player, Single-player, Co-op, Steam Achi...    100,000 .. 200,000   \n",
       "4                                      Single-player           0 .. 20,000   \n",
       "\n",
       "   ... Price Initial Price Discount    CCU  \\\n",
       "0  ...   999           999        0  13990   \n",
       "1  ...   999           999        0      0   \n",
       "2  ...   599          1999       70     99   \n",
       "3  ...  1999          1999        0     76   \n",
       "4  ...   199           199        0      0   \n",
       "\n",
       "                                           Languages            Platforms  \\\n",
       "0  English, French, German, Italian, Spanish - Sp...  windows, mac, linux   \n",
       "1                English, Korean, Simplified Chinese              windows   \n",
       "2  Simplified Chinese, English, Japanese, Traditi...              windows   \n",
       "3                                            English         windows, mac   \n",
       "4                                 Simplified Chinese              windows   \n",
       "\n",
       "  Release Date Required Age                            Website  \\\n",
       "0    2000/11/1            0                                NaN   \n",
       "1   2021/05/14            0                                NaN   \n",
       "2   2020/10/16            0                                NaN   \n",
       "3   2020/10/14            0  http://www.cookservedelicious.com   \n",
       "4   2019/03/30            0                                NaN   \n",
       "\n",
       "  Header Image,,,,,,,,,,,,,,,,,,,,,,,,,,,,,,,,,,,,,,,,,,,,,,,,,,,,,,,,,,,,,,,,,,,,,,,,,,,,,,  \n",
       "0  https://cdn.akamai.steamstatic.com/steam/apps/...                                          \n",
       "1  https://cdn.akamai.steamstatic.com/steam/apps/...                                          \n",
       "2  https://cdn.akamai.steamstatic.com/steam/apps/...                                          \n",
       "3  https://cdn.akamai.steamstatic.com/steam/apps/...                                          \n",
       "4  https://cdn.akamai.steamstatic.com/steam/apps/...                                          \n",
       "\n",
       "[5 rows x 22 columns]"
      ]
     },
     "execution_count": 2,
     "metadata": {},
     "output_type": "execute_result"
    }
   ],
   "source": [
    "data = read_csv(\"steam_gamesClean.csv\", dtype=str, delimiter=';', on_bad_lines='skip')\n",
    "data.head()"
   ]
  },
  {
   "cell_type": "code",
   "execution_count": 3,
   "id": "6bb1e516",
   "metadata": {},
   "outputs": [
    {
     "name": "stdout",
     "output_type": "stream",
     "text": [
      "(51122, 13)\n"
     ]
    }
   ],
   "source": [
    "data = data.drop(labels = [\"Type\", \"Initial Price\", \"Discount\", \"CCU\", \"Platforms\", \"Website\", \"Header Image,,,,,,,,,,,,,,,,,,,,,,,,,,,,,,,,,,,,,,,,,,,,,,,,,,,,,,,,,,,,,,,,,,,,,,,,,,,,,,\", \"Release Date\", \"Required Age\"], axis=1)\n",
    "print(data.shape)"
   ]
  },
  {
   "cell_type": "code",
   "execution_count": 4,
   "id": "4349e904",
   "metadata": {},
   "outputs": [],
   "source": [
    "data[\"Owners\"] = data[\"Owners\"].str.replace(\",0,\",\",000,\")\n",
    "data[\"Owners\"] = data[\"Owners\"].str.replace(\",\",\"\")"
   ]
  },
  {
   "cell_type": "code",
   "execution_count": 5,
   "id": "c967c23a",
   "metadata": {},
   "outputs": [
    {
     "data": {
      "text/plain": [
       "(24574, 14)"
      ]
     },
     "execution_count": 5,
     "metadata": {},
     "output_type": "execute_result"
    }
   ],
   "source": [
    "data = data.drop(data[pd.to_numeric(data['Positive Reviews']) <= 20].index).reset_index(drop=True)\n",
    "#data = data.drop(data[pd.to_numeric(data['Negative Reviews']) <= 20].index).reset_index(drop=True)\n",
    "data[\"Rating Difference\"] = pd.to_numeric(data[\"Positive Reviews\"]) - pd.to_numeric(data[\"Negative Reviews\"])\n",
    "data[\"Rating Difference\"]\n",
    "data.shape"
   ]
  },
  {
   "cell_type": "code",
   "execution_count": 6,
   "id": "fbba2085",
   "metadata": {},
   "outputs": [
    {
     "data": {
      "image/png": "[encoded data removed]",
      "text/plain": [
       "<Figure size 1600x800 with 1 Axes>"
      ]
     },
     "metadata": {},
     "output_type": "display_data"
    }
   ],
   "source": [
    "dev_ratios = data.groupby(\"Developer\")[\"Rating Difference\"].sum()\n",
    "heads = dev_ratios.sort_values(ascending=False).head(20)/1000\n",
    "fig2, ax2 = plt.subplots(figsize=(16,8))\n",
    "\n",
    "heads.plot(kind='barh', color='green', ax=ax2)\n",
    "\n",
    "plt.title('Developer ratings difference')\n",
    "plt.xlabel('Difference in ratings (Thousands)')\n",
    "plt.ylabel('Developer')\n",
    "\n",
    "plt.grid(axis='x')\n",
    "ax2.set_axisbelow(True)\n",
    "plt.show()"
   ]
  },
  {
   "cell_type": "code",
   "execution_count": 7,
   "id": "4318adee",
   "metadata": {},
   "outputs": [
    {
     "data": {
      "text/plain": [
       "0    Action FPS Multiplayer Shooter Classic Team-Ba...\n",
       "1    Shoot Em Up Metroidvania Bullet Hell Side Scro...\n",
       "2    Rogue-like Turn-Based Combat RPG Perma Death R...\n",
       "3    Typing Management Casual Difficult Arcade Stra...\n",
       "4    Action Indie RPG Adventure Action Roguelike An...\n",
       "Name: Tags, dtype: object"
      ]
     },
     "execution_count": 7,
     "metadata": {},
     "output_type": "execute_result"
    }
   ],
   "source": [
    "data[\"Tags\"] = data[\"Tags\"].replace('(: \\d*,)', '', regex=True)\n",
    "data[\"Tags\"]= data[\"Tags\"].astype(str)\n",
    "data[\"Tags\"].head()"
   ]
  },
  {
   "cell_type": "code",
   "execution_count": 8,
   "id": "e467fa3a",
   "metadata": {},
   "outputs": [
    {
     "data": {
      "text/plain": [
       "(24574,)"
      ]
     },
     "execution_count": 8,
     "metadata": {},
     "output_type": "execute_result"
    }
   ],
   "source": [
    "data[\"Genre\"] = data[\"Genre\"].replace(',', '', regex=True)\n",
    "data[\"Publisher\"] = data[\"Publisher\"].replace(',', '', regex=True)\n",
    "data[\"Genre\"] = data[\"Genre\"].astype(str)\n",
    "data[\"Publisher\"] = data[\"Publisher\"].astype(str)\n",
    "data[\"Info\"] = data[[\"Publisher\", \"Tags\", \"Genre\"]].agg(' '.join, axis=1)\n",
    "data[\"Info\"].shape"
   ]
  },
  {
   "cell_type": "code",
   "execution_count": 9,
   "id": "458405b0",
   "metadata": {},
   "outputs": [],
   "source": [
    "rand1 = np.random.randint(0, data.shape[1]+1)\n",
    "rand2 = np.random.randint(0, data.shape[1]+1)\n"
   ]
  },
  {
   "cell_type": "code",
   "execution_count": 10,
   "id": "c6378ca6",
   "metadata": {},
   "outputs": [
    {
     "data": {
      "text/plain": [
       "(24574, 13013)"
      ]
     },
     "execution_count": 10,
     "metadata": {},
     "output_type": "execute_result"
    }
   ],
   "source": [
    "vect = CountVectorizer()\n",
    "vmat = vect.fit_transform(data[\"Info\"])\n",
    "vmat.shape"
   ]
  },
  {
   "cell_type": "code",
   "execution_count": 11,
   "id": "98c3e707",
   "metadata": {},
   "outputs": [
    {
     "data": {
      "text/plain": [
       "array([[1.        , 0.17400444, 0.20119583, ..., 0.20261022, 0.08808303,\n",
       "        0.27429019],\n",
       "       [0.17400444, 1.        , 0.24441445, ..., 0.40895891, 0.27162564,\n",
       "        0.23068393],\n",
       "       [0.20119583, 0.24441445, 1.        , ..., 0.26270347, 0.11420805,\n",
       "        0.19264016],\n",
       "       ...,\n",
       "       [0.20261022, 0.40895891, 0.26270347, ..., 1.        , 0.44854261,\n",
       "        0.61779761],\n",
       "       [0.08808303, 0.27162564, 0.11420805, ..., 0.44854261, 1.        ,\n",
       "        0.42817442],\n",
       "       [0.27429019, 0.23068393, 0.19264016, ..., 0.61779761, 0.42817442,\n",
       "        1.        ]])"
      ]
     },
     "execution_count": 11,
     "metadata": {},
     "output_type": "execute_result"
    }
   ],
   "source": [
    "cosine_sim = cosine_similarity(vmat, vmat)\n",
    "cosine_sim"
   ]
  },
  {
   "cell_type": "code",
   "execution_count": 12,
   "id": "f3c1d6c0",
   "metadata": {},
   "outputs": [],
   "source": [
    "def rec(game:str, cos):\n",
    "    ind = data[data[\"Name\"] == game].index.to_list()[0]\n",
    "    score = list(enumerate(cos[ind]))\n",
    "    score = sorted(score, key=lambda x: x[1], reverse=True)\n",
    "    score = score[1:21]\n",
    "    top = [i[0] for i in score]\n",
    "    return data[\"Name\"].iloc[top]"
   ]
  },
  {
   "cell_type": "code",
   "execution_count": 13,
   "id": "2f72b141",
   "metadata": {},
   "outputs": [
    {
     "name": "stdout",
     "output_type": "stream",
     "text": [
      "Recommendation for 15921 The Elder Scrolls V: Skyrim Special Edition \n",
      "\n",
      "Recommendations using the publisher, tags, and genre \n",
      "\n",
      "9343     The Elder Scrolls III: Morrowind Game of the Y...\n",
      "9346     The Elder Scrolls IV: Oblivion Game of the Yea...\n",
      "20525                          The Elder Scrolls V: Skyrim\n",
      "23228    The Elder Scrolls IV: Oblivion Game of the Yea...\n",
      "18465                       The Elder Scrolls V: Skyrim VR\n",
      "9339                                             Fallout 3\n",
      "9280                          Divinity II: Developer's Cut\n",
      "13215                                            Fallout 4\n",
      "9507                                                Sudeki\n",
      "10694                                    Fable Anniversary\n",
      "9356                   Fallout 3: Game of the Year Edition\n",
      "12273                LIGHTNING RETURNS: FINAL FANTASY XIII\n",
      "13715                                             Gothic 3\n",
      "9697                                        Bound By Flame\n",
      "12952                          Dragon's Dogma: Dark Arisen\n",
      "9933                                               Enclave\n",
      "9359                                    Fallout: New Vegas\n",
      "348                          Kingdoms of Amalur: Reckoning\n",
      "3098                                Dragon Age Inquisition\n",
      "8850                             Fable - The Lost Chapters\n",
      "Name: Name, dtype: object \n",
      "\n"
     ]
    }
   ],
   "source": [
    "game = input(\"Enter a game name for a recommendation!\")\n",
    "print('Recommendation for', data[data[\"Name\"] == game].index.to_list()[0], game, '\\n')\n",
    "print('Recommendations using the publisher, tags, and genre \\n')\n",
    "print(rec(game, cosine_sim),'\\n')"
   ]
  },
  {
   "cell_type": "code",
   "execution_count": 14,
   "id": "6018aa19",
   "metadata": {},
   "outputs": [
    {
     "name": "stdout",
     "output_type": "stream",
     "text": [
      "Bethesda Softworks Open World RPG Adventure Singleplayer Fantasy Character Customization Dragons Moddable Story Rich Magic First-Person Action Atmospheric Great Soundtrack Third Person Stealth Classic Remake Female Protagonist Walking Simulator: 548 RPG\n",
      "Bethesda Softworks RPG Open World Fantasy Classic Great Soundtrack Moddable Singleplayer First-Person Adventure Cult Classic Atmospheric Magic Exploration Story Rich Sandbox Action RPG Character Customization Medieval Action Third Person: 156 RPG\n"
     ]
    }
   ],
   "source": [
    "print(data[\"Info\"][15921])\n",
    "print(data[\"Info\"][9343])"
   ]
  },
  {
   "cell_type": "code",
   "execution_count": 15,
   "id": "697430df",
   "metadata": {},
   "outputs": [
    {
     "name": "stdout",
     "output_type": "stream",
     "text": [
      "  (0, 607)\t1\n",
      "  (0, 849)\t1\n",
      "  (0, 885)\t1\n",
      "  (0, 1401)\t1\n",
      "  (0, 1754)\t1\n",
      "  (0, 2454)\t1\n",
      "  (0, 2583)\t1\n",
      "  (0, 3000)\t1\n",
      "  (0, 3582)\t1\n",
      "  (0, 4136)\t1\n",
      "  (0, 4191)\t1\n",
      "  (0, 4270)\t1\n",
      "  (0, 4993)\t1\n",
      "  (0, 7078)\t1\n",
      "  (0, 7584)\t1\n",
      "  (0, 8329)\t1\n",
      "  (0, 8653)\t2\n",
      "  (0, 9092)\t1\n",
      "  (0, 9469)\t1\n",
      "  (0, 9551)\t1\n",
      "  (0, 9738)\t2\n",
      "  (0, 10272)\t1\n",
      "  (0, 10280)\t1\n",
      "  (0, 10488)\t1\n",
      "  (0, 10560)\t1\n",
      "  (0, 10739)\t1\n",
      "  (0, 10822)\t1\n",
      "  (0, 11283)\t1\n",
      "  (0, 12100)\t1\n",
      "  (0, 12385)\t1\n",
      "==============\n",
      "  (0, 121)\t1\n",
      "  (0, 849)\t2\n",
      "  (0, 885)\t1\n",
      "  (0, 1401)\t1\n",
      "  (0, 1754)\t1\n",
      "  (0, 2454)\t1\n",
      "  (0, 2583)\t2\n",
      "  (0, 2983)\t1\n",
      "  (0, 3000)\t1\n",
      "  (0, 4072)\t1\n",
      "  (0, 4136)\t1\n",
      "  (0, 4270)\t1\n",
      "  (0, 4993)\t1\n",
      "  (0, 7078)\t1\n",
      "  (0, 7323)\t1\n",
      "  (0, 7584)\t1\n",
      "  (0, 8329)\t1\n",
      "  (0, 8653)\t2\n",
      "  (0, 9551)\t1\n",
      "  (0, 9738)\t3\n",
      "  (0, 9867)\t1\n",
      "  (0, 10280)\t1\n",
      "  (0, 10488)\t1\n",
      "  (0, 10560)\t1\n",
      "  (0, 10822)\t1\n",
      "  (0, 11283)\t1\n",
      "  (0, 12385)\t1\n"
     ]
    }
   ],
   "source": [
    "print(vmat[15921])\n",
    "print(\"==============\")\n",
    "print(vmat[9343])"
   ]
  },
  {
   "cell_type": "code",
   "execution_count": 16,
   "id": "c0aa07c3",
   "metadata": {},
   "outputs": [],
   "source": [
    "def rec2(game:str):\n",
    "    ind = data[data[\"Name\"] == game].index.to_list()[0]\n",
    "    score = sorted(list(enumerate(cosine_sim[ind])), key=lambda x: x[1], reverse=True)\n",
    "    for i in score[1:21]:\n",
    "        print(data.iloc[i[0]].Name, \"-\\nwith similarity of: %.5f%%\" % (i[1]*100.0))\n",
    "        print()"
   ]
  },
  {
   "cell_type": "code",
   "execution_count": 17,
   "id": "1e0e7d62",
   "metadata": {},
   "outputs": [
    {
     "name": "stdout",
     "output_type": "stream",
     "text": [
      "Recommendation for  Cook, Serve, Delicious! 3?! \n",
      "\n",
      "Recommendations using the publisher, tags, and genre \n",
      "\n",
      "Cook, Serve, Delicious! 2!! -\n",
      "with similarity of: 90.97177%\n",
      "\n",
      "Cook, Serve, Delicious! -\n",
      "with similarity of: 88.37800%\n",
      "\n",
      "Witchtastic -\n",
      "with similarity of: 80.42519%\n",
      "\n",
      "Overcooked! 2 -\n",
      "with similarity of: 80.34482%\n",
      "\n",
      "Cosmo's Quickstop -\n",
      "with similarity of: 78.17548%\n",
      "\n",
      "Diner Bros -\n",
      "with similarity of: 76.92589%\n",
      "\n",
      "Overcooked -\n",
      "with similarity of: 75.96471%\n",
      "\n",
      "SPITLINGS -\n",
      "with similarity of: 74.83925%\n",
      "\n",
      "Spacelines from the Far Out -\n",
      "with similarity of: 73.69555%\n",
      "\n",
      "Bake 'n Switch -\n",
      "with similarity of: 73.50504%\n",
      "\n",
      "Rover Wars -\n",
      "with similarity of: 73.40253%\n",
      "\n",
      "Raiders Of The Lost Island -\n",
      "with similarity of: 72.85088%\n",
      "\n",
      "Tools Up! -\n",
      "with similarity of: 72.71421%\n",
      "\n",
      "Totally Reliable Delivery Service Beta -\n",
      "with similarity of: 72.41379%\n",
      "\n",
      "Trash Sailors: Co-Op Trash Raft Simulator -\n",
      "with similarity of: 72.29188%\n",
      "\n",
      "Color Breakers -\n",
      "with similarity of: 72.23080%\n",
      "\n",
      "Critter Crunch -\n",
      "with similarity of: 71.94090%\n",
      "\n",
      "Flat Heroes -\n",
      "with similarity of: 71.19667%\n",
      "\n",
      "Bone's Cafe -\n",
      "with similarity of: 71.11590%\n",
      "\n",
      "Fueled Up -\n",
      "with similarity of: 70.91101%\n",
      "\n",
      "None \n",
      "\n"
     ]
    }
   ],
   "source": [
    "rand = np.random.randint(0, data.shape[1]+1)\n",
    "game_name = data['Name'][rand]\n",
    "print('Recommendation for ', game_name, '\\n')\n",
    "print('Recommendations using the publisher, tags, and genre \\n')\n",
    "print(rec2(game_name), '\\n')"
   ]
  }
 ],
 "metadata": {
  "kernelspec": {
   "display_name": "Python 3.9.13 ('base')",
   "language": "python",
   "name": "python3"
  },
  "language_info": {
   "codemirror_mode": {
    "name": "ipython",
    "version": 3
   },
   "file_extension": ".py",
   "mimetype": "text/x-python",
   "name": "python",
   "nbconvert_exporter": "python",
   "pygments_lexer": "ipython3",
   "version": "3.9.13"
  },
  "vscode": {
   "interpreter": {
    "hash": "02e30a1944b2587bb1294f2383a42da531eec4184971017897223c044f6bc1ae"
   }
  }
 },
 "nbformat": 4,
 "nbformat_minor": 5
}
